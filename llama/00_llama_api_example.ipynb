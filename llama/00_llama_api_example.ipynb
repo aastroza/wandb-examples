{
 "cells": [
  {
   "cell_type": "code",
   "execution_count": 22,
   "metadata": {},
   "outputs": [],
   "source": [
    "import os\n",
    "from openai import OpenAI\n",
    "import weave\n",
    "from dotenv import load_dotenv\n",
    "load_dotenv();"
   ]
  },
  {
   "cell_type": "code",
   "execution_count": 23,
   "metadata": {},
   "outputs": [],
   "source": [
    "client = OpenAI( \n",
    "  base_url=os.environ.get(\"LLAMA_90B_URL\"),\n",
    "  api_key=os.environ.get(\"WANDB_API_KEY\"),\n",
    ")"
   ]
  },
  {
   "cell_type": "code",
   "execution_count": 24,
   "metadata": {},
   "outputs": [],
   "source": [
    "image_url = 'https://avatars.githubusercontent.com/u/8590877?v=4&size=64'"
   ]
  },
  {
   "cell_type": "code",
   "execution_count": 25,
   "metadata": {},
   "outputs": [],
   "source": [
    "@weave.op()\n",
    "def explain_image(image_url: str) -> str:\n",
    "    url_messages = [{\n",
    "                \"role\":\n",
    "                \"user\",\n",
    "                \"content\": [\n",
    "                    {\n",
    "                    \"type\": \"text\",\n",
    "                    \"text\": \"What's in this image?\"\n",
    "                    },\n",
    "                    {\n",
    "                    \"type\": \"image_url\",\n",
    "                    \"image_url\": {\n",
    "                        \"url\": image_url\n",
    "                        },\n",
    "                    },\n",
    "                ],\n",
    "                }]\n",
    "    response = client.chat.completions.create(\n",
    "        model=os.environ.get(\"LLAMA_90B_MODEL\"),\n",
    "        messages=url_messages\n",
    "    )\n",
    "\n",
    "    return response.choices[0].message.content"
   ]
  },
  {
   "cell_type": "code",
   "execution_count": 26,
   "metadata": {},
   "outputs": [
    {
     "name": "stdout",
     "output_type": "stream",
     "text": [
      "🍩 https://wandb.ai/aastroza/llama3-90b/r/call/01922f05-bae6-73d3-a806-7a66bc54ffa9\n"
     ]
    },
    {
     "data": {
      "text/plain": [
       "'The image shows a man with dark hair and a dark shirt. The man is centered in the frame, and his head and shoulders are visible. He has dark hair that is cut short, and he is wearing a dark-colored shirt. The background of the image is a plain white wall.'"
      ]
     },
     "execution_count": 26,
     "metadata": {},
     "output_type": "execute_result"
    }
   ],
   "source": [
    "explain_image(image_url)"
   ]
  }
 ],
 "metadata": {
  "kernelspec": {
   "display_name": ".venv",
   "language": "python",
   "name": "python3"
  },
  "language_info": {
   "codemirror_mode": {
    "name": "ipython",
    "version": 3
   },
   "file_extension": ".py",
   "mimetype": "text/x-python",
   "name": "python",
   "nbconvert_exporter": "python",
   "pygments_lexer": "ipython3",
   "version": "3.12.2"
  }
 },
 "nbformat": 4,
 "nbformat_minor": 2
}
