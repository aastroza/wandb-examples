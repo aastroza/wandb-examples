{
 "cells": [
  {
   "cell_type": "code",
   "execution_count": 10,
   "metadata": {},
   "outputs": [
    {
     "data": {
      "text/plain": [
       "True"
      ]
     },
     "execution_count": 10,
     "metadata": {},
     "output_type": "execute_result"
    }
   ],
   "source": [
    "import os\n",
    "from openai import OpenAI\n",
    "from dotenv import load_dotenv\n",
    "load_dotenv();"
   ]
  },
  {
   "cell_type": "code",
   "execution_count": 16,
   "metadata": {},
   "outputs": [
    {
     "name": "stdout",
     "output_type": "stream",
     "text": [
      "There are different credentials in the netrc file and the environment. Using the environment value.\n",
      "There are different credentials in the netrc file and the environment. Using the environment value.\n",
      "Logged in as Weights & Biases user: aastroza.\n",
      "View Weave data at https://wandb.ai/aastroza/llama3-90b/weave\n"
     ]
    }
   ],
   "source": [
    "import weave\n",
    "\n",
    "WEAVE_PROJECT = \"llama3-90B\"\n",
    "weave_client = weave.init(WEAVE_PROJECT)"
   ]
  },
  {
   "cell_type": "code",
   "execution_count": 17,
   "metadata": {},
   "outputs": [],
   "source": [
    "client = OpenAI( \n",
    "  base_url=os.environ.get(\"LLAMA_90B_URL\"),\n",
    "  api_key=os.environ.get(\"WANDB_API_KEY\"),\n",
    ")"
   ]
  },
  {
   "cell_type": "code",
   "execution_count": 12,
   "metadata": {},
   "outputs": [],
   "source": [
    "image_url = 'https://avatars.githubusercontent.com/u/8590877?v=4&size=64'"
   ]
  },
  {
   "cell_type": "code",
   "execution_count": 13,
   "metadata": {},
   "outputs": [],
   "source": []
  },
  {
   "cell_type": "code",
   "execution_count": 20,
   "metadata": {},
   "outputs": [],
   "source": [
    "@weave.op()\n",
    "def explain_image(image_url: str) -> str:\n",
    "    url_messages = [{\n",
    "                \"role\":\n",
    "                \"user\",\n",
    "                \"content\": [\n",
    "                    {\n",
    "                    \"type\": \"text\",\n",
    "                    \"text\": \"What's in this image?\"\n",
    "                    },\n",
    "                    {\n",
    "                    \"type\": \"image_url\",\n",
    "                    \"image_url\": {\n",
    "                        \"url\": image_url\n",
    "                        },\n",
    "                    },\n",
    "                ],\n",
    "                }]\n",
    "    response = client.chat.completions.create(\n",
    "        model=os.environ.get(\"LLAMA_90B_MODEL\"),\n",
    "        messages=url_messages\n",
    "    )\n",
    "\n",
    "    return response.choices[0].message.content"
   ]
  },
  {
   "cell_type": "code",
   "execution_count": 21,
   "metadata": {},
   "outputs": [
    {
     "name": "stdout",
     "output_type": "stream",
     "text": [
      "🍩 https://wandb.ai/aastroza/llama3-90b/r/call/01922f01-3381-7c51-8bfc-8d08ccab2e91\n"
     ]
    },
    {
     "data": {
      "text/plain": [
       "\"The image is a headshot of a man. The image is a bit blurry, but the man has dark hair and a short beard and mustache. He appears to be wearing a dark gray shirt, possibly a t-shirt. The background of the image is white, with a slight shadow visible behind the man's head. The overall atmosphere of the image suggests that it may be a professional or personal profile picture for the man.\""
      ]
     },
     "execution_count": 21,
     "metadata": {},
     "output_type": "execute_result"
    }
   ],
   "source": [
    "explain_image(image_url)"
   ]
  }
 ],
 "metadata": {
  "kernelspec": {
   "display_name": ".venv",
   "language": "python",
   "name": "python3"
  },
  "language_info": {
   "codemirror_mode": {
    "name": "ipython",
    "version": 3
   },
   "file_extension": ".py",
   "mimetype": "text/x-python",
   "name": "python",
   "nbconvert_exporter": "python",
   "pygments_lexer": "ipython3",
   "version": "3.12.2"
  }
 },
 "nbformat": 4,
 "nbformat_minor": 2
}
