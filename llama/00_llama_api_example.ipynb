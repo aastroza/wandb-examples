{
 "cells": [
  {
   "cell_type": "code",
   "execution_count": 1,
   "metadata": {},
   "outputs": [
    {
     "name": "stdout",
     "output_type": "stream",
     "text": [
      "There are different credentials in the netrc file and the environment. Using the environment value.\n"
     ]
    }
   ],
   "source": [
    "import os\n",
    "from openai import OpenAI\n",
    "import weave\n",
    "from dotenv import load_dotenv\n",
    "load_dotenv();"
   ]
  },
  {
   "cell_type": "code",
   "execution_count": 8,
   "metadata": {},
   "outputs": [
    {
     "name": "stdout",
     "output_type": "stream",
     "text": [
      "There are different credentials in the netrc file and the environment. Using the environment value.\n",
      "Logged in as Weights & Biases user: aastroza.\n",
      "View Weave data at https://wandb.ai/aastroza/llama/weave\n"
     ]
    },
    {
     "data": {
      "text/plain": [
       "<weave.trace.weave_client.WeaveClient at 0x21e2636bc20>"
      ]
     },
     "execution_count": 8,
     "metadata": {},
     "output_type": "execute_result"
    }
   ],
   "source": [
    "client = OpenAI( \n",
    "  base_url=os.environ.get(\"LLAMA_90B_URL\"),\n",
    "  api_key=os.environ.get(\"WANDB_API_KEY\"),\n",
    ")\n",
    "\n",
    "weave.init('llama')"
   ]
  },
  {
   "cell_type": "code",
   "execution_count": 9,
   "metadata": {},
   "outputs": [],
   "source": [
    "image_url = 'https://avatars.githubusercontent.com/u/8590877?v=4&size=64'"
   ]
  },
  {
   "cell_type": "code",
   "execution_count": 10,
   "metadata": {},
   "outputs": [],
   "source": [
    "@weave.op()\n",
    "def explain_image(image_url: str) -> str:\n",
    "    url_messages = [{\n",
    "                \"role\":\n",
    "                \"user\",\n",
    "                \"content\": [\n",
    "                    {\n",
    "                    \"type\": \"text\",\n",
    "                    \"text\": \"What's in this image?\"\n",
    "                    },\n",
    "                    {\n",
    "                    \"type\": \"image_url\",\n",
    "                    \"image_url\": {\n",
    "                        \"url\": image_url\n",
    "                        },\n",
    "                    },\n",
    "                ],\n",
    "                }]\n",
    "    response = client.chat.completions.create(\n",
    "        model=os.environ.get(\"LLAMA_90B_MODEL\"),\n",
    "        messages=url_messages\n",
    "    )\n",
    "\n",
    "    return response.choices[0].message.content"
   ]
  },
  {
   "cell_type": "code",
   "execution_count": 11,
   "metadata": {},
   "outputs": [
    {
     "name": "stdout",
     "output_type": "stream",
     "text": [
      "🍩 https://wandb.ai/aastroza/llama/r/call/01922f08-90d6-74b1-9bef-03931d92c811\n"
     ]
    },
    {
     "data": {
      "text/plain": [
       "'The image shows a man with a neutral expression, wearing a dark-colored shirt. The background is a plain white wall. The image appears to be a headshot or portrait of the individual.'"
      ]
     },
     "execution_count": 11,
     "metadata": {},
     "output_type": "execute_result"
    }
   ],
   "source": [
    "explain_image(image_url)"
   ]
  }
 ],
 "metadata": {
  "kernelspec": {
   "display_name": ".venv",
   "language": "python",
   "name": "python3"
  },
  "language_info": {
   "codemirror_mode": {
    "name": "ipython",
    "version": 3
   },
   "file_extension": ".py",
   "mimetype": "text/x-python",
   "name": "python",
   "nbconvert_exporter": "python",
   "pygments_lexer": "ipython3",
   "version": "3.12.2"
  }
 },
 "nbformat": 4,
 "nbformat_minor": 2
}
